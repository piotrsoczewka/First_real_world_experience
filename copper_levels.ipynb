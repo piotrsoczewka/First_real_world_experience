{
 "cells": [
  {
   "cell_type": "markdown",
   "metadata": {},
   "source": [
    "My goal here is to make a bar plot showing copper content in tested yeast strains. Experiment was performed in triplicates, so means with indicated standard deviations will be presented. I will also perform statistical tests and if any differences between strains are significant, they will be shown in the plot. For statistics I use scipy.stats and pingouin – just to see if these modules perform the same and which one is easier to use."
   ]
  },
  {
   "cell_type": "code",
   "execution_count": 26,
   "metadata": {},
   "outputs": [],
   "source": [
    "# Importing modules\n",
    "import pandas as pd\n",
    "import numpy as np\n",
    "import seaborn as sns\n",
    "import matplotlib.pyplot as plt\n",
    "import scipy.stats as stat\n",
    "from statsmodels.stats.multicomp import pairwise_tukeyhsd\n",
    "import pingouin as pg"
   ]
  },
  {
   "cell_type": "code",
   "execution_count": 27,
   "metadata": {},
   "outputs": [],
   "source": [
    "# Defining function which allows changing the bar width in seaborn count plot.\n",
    "# Solution proposed by jsgounot (https://stackoverflow.com/users/5016055/jsgounot).\n",
    "def set_bar_width(ax, new_width):\n",
    "    for patch in ax.patches:\n",
    "        current_width = patch.get_width()\n",
    "        patch.set_width(new_width)\n",
    "        diff = current_width - new_width\n",
    "        patch.set_x(patch.get_x() + diff * .5)"
   ]
  },
  {
   "cell_type": "code",
   "execution_count": 48,
   "metadata": {},
   "outputs": [],
   "source": [
    "# Importing data from excel file to a dataframe.\n",
    "copper_table = pd.read_excel('copper_iron_plasmids.xlsx')"
   ]
  },
  {
   "cell_type": "markdown",
   "metadata": {},
   "source": [
    "Quick look at the dataframe."
   ]
  },
  {
   "cell_type": "code",
   "execution_count": 29,
   "metadata": {},
   "outputs": [
    {
     "name": "stdout",
     "output_type": "stream",
     "text": [
      "<class 'pandas.core.frame.DataFrame'>\n",
      "RangeIndex: 42 entries, 0 to 41\n",
      "Data columns (total 3 columns):\n",
      " #   Column   Non-Null Count  Dtype  \n",
      "---  ------   --------------  -----  \n",
      " 0   Content  42 non-null     float64\n",
      " 1   Element  42 non-null     object \n",
      " 2   Strain   42 non-null     object \n",
      "dtypes: float64(1), object(2)\n",
      "memory usage: 736.0+ bytes\n"
     ]
    }
   ],
   "source": [
    "copper_table.info()"
   ]
  },
  {
   "cell_type": "code",
   "execution_count": 30,
   "metadata": {},
   "outputs": [
    {
     "data": {
      "text/html": [
       "<div>\n",
       "<style scoped>\n",
       "    .dataframe tbody tr th:only-of-type {\n",
       "        vertical-align: middle;\n",
       "    }\n",
       "\n",
       "    .dataframe tbody tr th {\n",
       "        vertical-align: top;\n",
       "    }\n",
       "\n",
       "    .dataframe thead th {\n",
       "        text-align: right;\n",
       "    }\n",
       "</style>\n",
       "<table border=\"1\" class=\"dataframe\">\n",
       "  <thead>\n",
       "    <tr style=\"text-align: right;\">\n",
       "      <th></th>\n",
       "      <th>Content</th>\n",
       "      <th>Element</th>\n",
       "      <th>Strain</th>\n",
       "    </tr>\n",
       "  </thead>\n",
       "  <tbody>\n",
       "    <tr>\n",
       "      <th>0</th>\n",
       "      <td>30.284861</td>\n",
       "      <td>Copper</td>\n",
       "      <td>WT [-]</td>\n",
       "    </tr>\n",
       "    <tr>\n",
       "      <th>1</th>\n",
       "      <td>30.881279</td>\n",
       "      <td>Copper</td>\n",
       "      <td>WT [-]</td>\n",
       "    </tr>\n",
       "    <tr>\n",
       "      <th>2</th>\n",
       "      <td>31.737956</td>\n",
       "      <td>Copper</td>\n",
       "      <td>WT [-]</td>\n",
       "    </tr>\n",
       "    <tr>\n",
       "      <th>3</th>\n",
       "      <td>33.242222</td>\n",
       "      <td>Copper</td>\n",
       "      <td>vps13Δ [-]</td>\n",
       "    </tr>\n",
       "    <tr>\n",
       "      <th>4</th>\n",
       "      <td>37.846099</td>\n",
       "      <td>Copper</td>\n",
       "      <td>vps13Δ [-]</td>\n",
       "    </tr>\n",
       "  </tbody>\n",
       "</table>\n",
       "</div>"
      ],
      "text/plain": [
       "     Content Element      Strain\n",
       "0  30.284861  Copper      WT [-]\n",
       "1  30.881279  Copper      WT [-]\n",
       "2  31.737956  Copper      WT [-]\n",
       "3  33.242222  Copper  vps13Δ [-]\n",
       "4  37.846099  Copper  vps13Δ [-]"
      ]
     },
     "execution_count": 30,
     "metadata": {},
     "output_type": "execute_result"
    }
   ],
   "source": [
    "copper_table.head()"
   ]
  },
  {
   "cell_type": "code",
   "execution_count": 31,
   "metadata": {},
   "outputs": [
    {
     "data": {
      "text/plain": [
       "array(['Copper', 'Iron'], dtype=object)"
      ]
     },
     "execution_count": 31,
     "metadata": {},
     "output_type": "execute_result"
    }
   ],
   "source": [
    "copper_table['Element'].unique()"
   ]
  },
  {
   "cell_type": "code",
   "execution_count": 32,
   "metadata": {},
   "outputs": [
    {
     "data": {
      "text/plain": [
       "array(['WT [-]', 'vps13Δ [-]', 'vps13Δ [CTR1]', 'vps13Δ ccc2Δ [-]',\n",
       "       'vps13Δ ccc2Δ [CTR1]', 'ctr1Δ [-]', 'fet3Δ [-]'], dtype=object)"
      ]
     },
     "execution_count": 32,
     "metadata": {},
     "output_type": "execute_result"
    }
   ],
   "source": [
    "copper_table['Strain'].unique()"
   ]
  },
  {
   "cell_type": "markdown",
   "metadata": {},
   "source": [
    "I am interested in copper only, not in iron. Also, I do not need all the strains. For that, I do simple filtering to have a dataframe with copper only and desired strains."
   ]
  },
  {
   "cell_type": "code",
   "execution_count": 40,
   "metadata": {},
   "outputs": [
    {
     "data": {
      "text/html": [
       "<div>\n",
       "<style scoped>\n",
       "    .dataframe tbody tr th:only-of-type {\n",
       "        vertical-align: middle;\n",
       "    }\n",
       "\n",
       "    .dataframe tbody tr th {\n",
       "        vertical-align: top;\n",
       "    }\n",
       "\n",
       "    .dataframe thead th {\n",
       "        text-align: right;\n",
       "    }\n",
       "</style>\n",
       "<table border=\"1\" class=\"dataframe\">\n",
       "  <thead>\n",
       "    <tr style=\"text-align: right;\">\n",
       "      <th></th>\n",
       "      <th>Content</th>\n",
       "      <th>Element</th>\n",
       "      <th>Strain</th>\n",
       "    </tr>\n",
       "  </thead>\n",
       "  <tbody>\n",
       "    <tr>\n",
       "      <th>0</th>\n",
       "      <td>30.284861</td>\n",
       "      <td>Copper</td>\n",
       "      <td>WT [-]</td>\n",
       "    </tr>\n",
       "    <tr>\n",
       "      <th>1</th>\n",
       "      <td>30.881279</td>\n",
       "      <td>Copper</td>\n",
       "      <td>WT [-]</td>\n",
       "    </tr>\n",
       "    <tr>\n",
       "      <th>2</th>\n",
       "      <td>31.737956</td>\n",
       "      <td>Copper</td>\n",
       "      <td>WT [-]</td>\n",
       "    </tr>\n",
       "    <tr>\n",
       "      <th>3</th>\n",
       "      <td>33.242222</td>\n",
       "      <td>Copper</td>\n",
       "      <td>vps13Δ [-]</td>\n",
       "    </tr>\n",
       "    <tr>\n",
       "      <th>4</th>\n",
       "      <td>37.846099</td>\n",
       "      <td>Copper</td>\n",
       "      <td>vps13Δ [-]</td>\n",
       "    </tr>\n",
       "    <tr>\n",
       "      <th>5</th>\n",
       "      <td>35.243748</td>\n",
       "      <td>Copper</td>\n",
       "      <td>vps13Δ [-]</td>\n",
       "    </tr>\n",
       "    <tr>\n",
       "      <th>6</th>\n",
       "      <td>65.977881</td>\n",
       "      <td>Copper</td>\n",
       "      <td>vps13Δ [CTR1]</td>\n",
       "    </tr>\n",
       "    <tr>\n",
       "      <th>7</th>\n",
       "      <td>66.546632</td>\n",
       "      <td>Copper</td>\n",
       "      <td>vps13Δ [CTR1]</td>\n",
       "    </tr>\n",
       "    <tr>\n",
       "      <th>8</th>\n",
       "      <td>68.768754</td>\n",
       "      <td>Copper</td>\n",
       "      <td>vps13Δ [CTR1]</td>\n",
       "    </tr>\n",
       "    <tr>\n",
       "      <th>15</th>\n",
       "      <td>30.526268</td>\n",
       "      <td>Copper</td>\n",
       "      <td>ctr1Δ [-]</td>\n",
       "    </tr>\n",
       "    <tr>\n",
       "      <th>16</th>\n",
       "      <td>28.727465</td>\n",
       "      <td>Copper</td>\n",
       "      <td>ctr1Δ [-]</td>\n",
       "    </tr>\n",
       "    <tr>\n",
       "      <th>17</th>\n",
       "      <td>30.552220</td>\n",
       "      <td>Copper</td>\n",
       "      <td>ctr1Δ [-]</td>\n",
       "    </tr>\n",
       "  </tbody>\n",
       "</table>\n",
       "</div>"
      ],
      "text/plain": [
       "      Content Element         Strain\n",
       "0   30.284861  Copper         WT [-]\n",
       "1   30.881279  Copper         WT [-]\n",
       "2   31.737956  Copper         WT [-]\n",
       "3   33.242222  Copper     vps13Δ [-]\n",
       "4   37.846099  Copper     vps13Δ [-]\n",
       "5   35.243748  Copper     vps13Δ [-]\n",
       "6   65.977881  Copper  vps13Δ [CTR1]\n",
       "7   66.546632  Copper  vps13Δ [CTR1]\n",
       "8   68.768754  Copper  vps13Δ [CTR1]\n",
       "15  30.526268  Copper      ctr1Δ [-]\n",
       "16  28.727465  Copper      ctr1Δ [-]\n",
       "17  30.552220  Copper      ctr1Δ [-]"
      ]
     },
     "execution_count": 40,
     "metadata": {},
     "output_type": "execute_result"
    }
   ],
   "source": [
    "select_element = copper_table['Element'] == 'Copper'\n",
    "select_strains = copper_table['Strain'].isin(['WT [-]', 'vps13Δ [-]', 'vps13Δ [CTR1]', 'ctr1Δ [-]'])\n",
    "copper_table_analysis = copper_table[(select_element) & (select_strains)]\n",
    "copper_table_analysis"
   ]
  },
  {
   "cell_type": "markdown",
   "metadata": {},
   "source": [
    "Looks good. Now, let's do the statistics. I plan to use ANOVA followed by Tukey multiple comparson test in order to see if any strain is significantly different from others. I do not include values for ctr1Δ[-] strain - it serves as a negative control and can influence statistical differences between tested strains. \n",
    "\n",
    "I am going to use scipy.stat module to conduct statistical analysis. Then I will do the same using another python statistic library - pingouin and see how it works in comparison to scipy.\n",
    "\n",
    "Before performing the tests, we need to check assumptions (normal distributions and homoscedasticity)."
   ]
  },
  {
   "cell_type": "code",
   "execution_count": 47,
   "metadata": {},
   "outputs": [
    {
     "data": {
      "text/plain": [
       "array(['WT [-]', 'vps13Δ [-]', 'vps13Δ [CTR1]'], dtype=object)"
      ]
     },
     "execution_count": 47,
     "metadata": {},
     "output_type": "execute_result"
    }
   ],
   "source": [
    "# Removing ctr1Δ [-] for hypothesis testing.\n",
    "copper_statistics = copper_table_analysis[copper_table_analysis['Strain'] != 'ctr1Δ [-]']\n",
    "copper_statistics['Strain'].unique()"
   ]
  },
  {
   "cell_type": "code",
   "execution_count": 42,
   "metadata": {},
   "outputs": [
    {
     "name": "stdout",
     "output_type": "stream",
     "text": [
      "Shapiro-Wilk results, scipy:\n",
      "p_value for WT [-] = 0.803\n",
      "p_value for vps13Δ [-] = 0.856\n",
      "p_value for vps13Δ [CTR1] = 0.371\n"
     ]
    }
   ],
   "source": [
    "# Shapiro-Wilk normality test in scipy.\n",
    "# Checking if copper content in all categories (strain) is normally distributed.\n",
    "print('Shapiro-Wilk results, scipy:')\n",
    "for strain in copper_statistics['Strain'].unique():\n",
    "    data = copper_statistics[copper_statistics['Strain'] == str(strain)]['Content']\n",
    "    pvalue = round(stat.shapiro(data)[1],3)\n",
    "    print('p_value for', strain, '=', pvalue)"
   ]
  },
  {
   "cell_type": "code",
   "execution_count": 43,
   "metadata": {},
   "outputs": [
    {
     "name": "stdout",
     "output_type": "stream",
     "text": [
      "Bartlett's results, scipy:\n",
      "p_value = 0.395\n"
     ]
    }
   ],
   "source": [
    "# Bartlett's test in scipy.\n",
    "# Groups must be made manually.\n",
    "wt = copper_statistics[copper_statistics['Strain'] == 'WT [-]']['Content']\n",
    "vps13 = copper_statistics[copper_statistics['Strain'] == 'vps13Δ [-]']['Content']\n",
    "vps13CTR1 = copper_statistics[copper_statistics['Strain'] == 'vps13Δ [CTR1]']['Content']\n",
    "\n",
    "print(\"Bartlett's results, scipy:\")\n",
    "pvalue = round(stat.bartlett(wt, vps13, vps13CTR1)[1],3)\n",
    "print('p_value =', pvalue)"
   ]
  },
  {
   "cell_type": "markdown",
   "metadata": {},
   "source": [
    "Assumptions about normality and homoscedasticity are fullfiled. Time for hypothesis testing."
   ]
  },
  {
   "cell_type": "code",
   "execution_count": 13,
   "metadata": {},
   "outputs": [
    {
     "name": "stdout",
     "output_type": "stream",
     "text": [
      "ANOVA, scipy:\n",
      "p_value = 3.227826561431831e-07\n"
     ]
    }
   ],
   "source": [
    "# One-way ANOVA in scipy\n",
    "print('ANOVA, scipy:')\n",
    "pvalue = stat.f_oneway(wt, vps13, vps13CTR1)[1]\n",
    "print('p_value =', pvalue)"
   ]
  },
  {
   "cell_type": "markdown",
   "metadata": {},
   "source": [
    "Very low p-value (3.228 * 10<sup>-7</sup>) indicates that there are significant differences within tested groups. To find out which groups are different, I am going to perform Tukey's multiple comparison test. But there is a disappointment  - scipy.stats does not have this test... Going to use one from statsmodels."
   ]
  },
  {
   "cell_type": "code",
   "execution_count": 44,
   "metadata": {},
   "outputs": [
    {
     "name": "stdout",
     "output_type": "stream",
     "text": [
      "      Multiple Comparison of Means - Tukey HSD, FWER=0.05      \n",
      "===============================================================\n",
      "  group1       group2    meandiff p-adj   lower   upper  reject\n",
      "---------------------------------------------------------------\n",
      "    WT [-]    vps13Δ [-]    4.476 0.0354  0.3801  8.5718   True\n",
      "    WT [-] vps13Δ [CTR1]  36.1297  0.001 32.0339 40.2256   True\n",
      "vps13Δ [-] vps13Δ [CTR1]  31.6537  0.001 27.5579 35.7496   True\n",
      "---------------------------------------------------------------\n"
     ]
    }
   ],
   "source": [
    "tukey = pairwise_tukeyhsd(copper_statistics['Content'], copper_statistics['Strain'], alpha=0.05)\n",
    "print(tukey)"
   ]
  },
  {
   "cell_type": "markdown",
   "metadata": {},
   "source": [
    "We have an elegant table showing significant differences between all the groups. Looks good and clear, yet I would like to see the exactly p-value instead of values rounded to 0.001.\n",
    "\n",
    "Now let's do the same in pingouin. According to pingouin documentation, test for normality and homoscedasticity in this library are taken from scipy.stats."
   ]
  },
  {
   "cell_type": "code",
   "execution_count": 37,
   "metadata": {},
   "outputs": [
    {
     "ename": "AssertionError",
     "evalue": "Data must have more than 3 samples.",
     "output_type": "error",
     "traceback": [
      "\u001b[1;31m---------------------------------------------------------------------------\u001b[0m",
      "\u001b[1;31mAssertionError\u001b[0m                            Traceback (most recent call last)",
      "\u001b[1;32m<ipython-input-37-187b2360a2d1>\u001b[0m in \u001b[0;36m<module>\u001b[1;34m\u001b[0m\n\u001b[0;32m      1\u001b[0m \u001b[1;31m# Shapiro-Wilk normality test in pingouin.\u001b[0m\u001b[1;33m\u001b[0m\u001b[1;33m\u001b[0m\u001b[0m\n\u001b[1;32m----> 2\u001b[1;33m \u001b[0mpg\u001b[0m\u001b[1;33m.\u001b[0m\u001b[0mnormality\u001b[0m\u001b[1;33m(\u001b[0m\u001b[0mdata\u001b[0m \u001b[1;33m=\u001b[0m \u001b[0mcopper_statistics\u001b[0m\u001b[1;33m,\u001b[0m \u001b[0mdv\u001b[0m\u001b[1;33m=\u001b[0m\u001b[1;34m'Content'\u001b[0m\u001b[1;33m,\u001b[0m \u001b[0mgroup\u001b[0m\u001b[1;33m=\u001b[0m\u001b[1;34m'Strain'\u001b[0m\u001b[1;33m,\u001b[0m \u001b[0malpha\u001b[0m\u001b[1;33m=\u001b[0m\u001b[1;36m0.05\u001b[0m\u001b[1;33m)\u001b[0m\u001b[1;33m\u001b[0m\u001b[0m\n\u001b[0m",
      "\u001b[1;32mc:\\program files (x86)\\python36-32\\lib\\site-packages\\pingouin\\distribution.py\u001b[0m in \u001b[0;36mnormality\u001b[1;34m(data, dv, group, method, alpha)\u001b[0m\n\u001b[0;32m    218\u001b[0m                 stats = stats.append(normality(tmp[dv].to_numpy(),\n\u001b[0;32m    219\u001b[0m                                                \u001b[0mmethod\u001b[0m\u001b[1;33m=\u001b[0m\u001b[0mmethod\u001b[0m\u001b[1;33m,\u001b[0m\u001b[1;33m\u001b[0m\u001b[0m\n\u001b[1;32m--> 220\u001b[1;33m                                                alpha=alpha))\n\u001b[0m\u001b[0;32m    221\u001b[0m             \u001b[0mstats\u001b[0m\u001b[1;33m.\u001b[0m\u001b[0mindex\u001b[0m \u001b[1;33m=\u001b[0m \u001b[0mcols\u001b[0m\u001b[1;33m\u001b[0m\u001b[0m\n\u001b[0;32m    222\u001b[0m     \u001b[1;32mreturn\u001b[0m \u001b[0m_postprocess_dataframe\u001b[0m\u001b[1;33m(\u001b[0m\u001b[0mstats\u001b[0m\u001b[1;33m)\u001b[0m\u001b[1;33m\u001b[0m\u001b[0m\n",
      "\u001b[1;32mc:\\program files (x86)\\python36-32\\lib\\site-packages\\pingouin\\distribution.py\u001b[0m in \u001b[0;36mnormality\u001b[1;34m(data, dv, group, method, alpha)\u001b[0m\n\u001b[0;32m    193\u001b[0m         \u001b[0mdata\u001b[0m \u001b[1;33m=\u001b[0m \u001b[0mnp\u001b[0m\u001b[1;33m.\u001b[0m\u001b[0masarray\u001b[0m\u001b[1;33m(\u001b[0m\u001b[0mdata\u001b[0m\u001b[1;33m)\u001b[0m\u001b[1;33m\u001b[0m\u001b[0m\n\u001b[0;32m    194\u001b[0m         \u001b[1;32massert\u001b[0m \u001b[0mdata\u001b[0m\u001b[1;33m.\u001b[0m\u001b[0mndim\u001b[0m \u001b[1;33m==\u001b[0m \u001b[1;36m1\u001b[0m\u001b[1;33m,\u001b[0m \u001b[1;34m'Data must be 1D.'\u001b[0m\u001b[1;33m\u001b[0m\u001b[0m\n\u001b[1;32m--> 195\u001b[1;33m         \u001b[1;32massert\u001b[0m \u001b[0mdata\u001b[0m\u001b[1;33m.\u001b[0m\u001b[0msize\u001b[0m \u001b[1;33m>\u001b[0m \u001b[1;36m3\u001b[0m\u001b[1;33m,\u001b[0m \u001b[1;34m'Data must have more than 3 samples.'\u001b[0m\u001b[1;33m\u001b[0m\u001b[0m\n\u001b[0m\u001b[0;32m    196\u001b[0m         \u001b[0mdata\u001b[0m \u001b[1;33m=\u001b[0m \u001b[0mremove_na\u001b[0m\u001b[1;33m(\u001b[0m\u001b[0mdata\u001b[0m\u001b[1;33m)\u001b[0m\u001b[1;33m\u001b[0m\u001b[0m\n\u001b[0;32m    197\u001b[0m         \u001b[0mstats\u001b[0m \u001b[1;33m=\u001b[0m \u001b[0mpd\u001b[0m\u001b[1;33m.\u001b[0m\u001b[0mDataFrame\u001b[0m\u001b[1;33m(\u001b[0m\u001b[0mfunc\u001b[0m\u001b[1;33m(\u001b[0m\u001b[0mdata\u001b[0m\u001b[1;33m)\u001b[0m\u001b[1;33m)\u001b[0m\u001b[1;33m.\u001b[0m\u001b[0mT\u001b[0m\u001b[1;33m\u001b[0m\u001b[0m\n",
      "\u001b[1;31mAssertionError\u001b[0m: Data must have more than 3 samples."
     ]
    }
   ],
   "source": [
    "# Shapiro-Wilk normality test in pingouin.\n",
    "pg.normality(data = copper_statistics, dv='Content', group='Strain', alpha=0.05)"
   ]
  },
  {
   "cell_type": "markdown",
   "metadata": {},
   "source": [
    "\"Data must have more than 3 samples.\" Well, that's ridiculous. Very often, scientific experiments are performed in triplicates, like mine here. This means that pingouin normality test is useless in many cases..."
   ]
  },
  {
   "cell_type": "code",
   "execution_count": 38,
   "metadata": {},
   "outputs": [
    {
     "data": {
      "text/html": [
       "<div>\n",
       "<style scoped>\n",
       "    .dataframe tbody tr th:only-of-type {\n",
       "        vertical-align: middle;\n",
       "    }\n",
       "\n",
       "    .dataframe tbody tr th {\n",
       "        vertical-align: top;\n",
       "    }\n",
       "\n",
       "    .dataframe thead th {\n",
       "        text-align: right;\n",
       "    }\n",
       "</style>\n",
       "<table border=\"1\" class=\"dataframe\">\n",
       "  <thead>\n",
       "    <tr style=\"text-align: right;\">\n",
       "      <th></th>\n",
       "      <th>T</th>\n",
       "      <th>pval</th>\n",
       "      <th>equal_var</th>\n",
       "    </tr>\n",
       "  </thead>\n",
       "  <tbody>\n",
       "    <tr>\n",
       "      <th>bartlett</th>\n",
       "      <td>1.856607</td>\n",
       "      <td>0.395224</td>\n",
       "      <td>True</td>\n",
       "    </tr>\n",
       "  </tbody>\n",
       "</table>\n",
       "</div>"
      ],
      "text/plain": [
       "                 T      pval  equal_var\n",
       "bartlett  1.856607  0.395224       True"
      ]
     },
     "execution_count": 38,
     "metadata": {},
     "output_type": "execute_result"
    }
   ],
   "source": [
    "# Bartlett's test in pingouin.\n",
    "pg.homoscedasticity(data = copper_statistics, dv='Content', group='Strain', method='bartlett', alpha=0.05)"
   ]
  },
  {
   "cell_type": "markdown",
   "metadata": {},
   "source": [
    "Interestingly, now 3 samples were enough. Test result is the same as in scipy."
   ]
  },
  {
   "cell_type": "code",
   "execution_count": 46,
   "metadata": {},
   "outputs": [
    {
     "data": {
      "text/html": [
       "<div>\n",
       "<style scoped>\n",
       "    .dataframe tbody tr th:only-of-type {\n",
       "        vertical-align: middle;\n",
       "    }\n",
       "\n",
       "    .dataframe tbody tr th {\n",
       "        vertical-align: top;\n",
       "    }\n",
       "\n",
       "    .dataframe thead th {\n",
       "        text-align: right;\n",
       "    }\n",
       "</style>\n",
       "<table border=\"1\" class=\"dataframe\">\n",
       "  <thead>\n",
       "    <tr style=\"text-align: right;\">\n",
       "      <th></th>\n",
       "      <th>Source</th>\n",
       "      <th>ddof1</th>\n",
       "      <th>ddof2</th>\n",
       "      <th>F</th>\n",
       "      <th>p-unc</th>\n",
       "      <th>np2</th>\n",
       "    </tr>\n",
       "  </thead>\n",
       "  <tbody>\n",
       "    <tr>\n",
       "      <th>0</th>\n",
       "      <td>Strain</td>\n",
       "      <td>2</td>\n",
       "      <td>6</td>\n",
       "      <td>434.338648</td>\n",
       "      <td>3.227827e-07</td>\n",
       "      <td>0.99314</td>\n",
       "    </tr>\n",
       "  </tbody>\n",
       "</table>\n",
       "</div>"
      ],
      "text/plain": [
       "   Source  ddof1  ddof2           F         p-unc      np2\n",
       "0  Strain      2      6  434.338648  3.227827e-07  0.99314"
      ]
     },
     "execution_count": 46,
     "metadata": {},
     "output_type": "execute_result"
    }
   ],
   "source": [
    "# One-way ANOVA in pingouin.\n",
    "pg.anova(data=copper_statistics, dv='Content', between='Strain')"
   ]
  },
  {
   "cell_type": "markdown",
   "metadata": {},
   "source": [
    "Works nicely, p-value like in scipy."
   ]
  },
  {
   "cell_type": "code",
   "execution_count": 45,
   "metadata": {},
   "outputs": [
    {
     "data": {
      "text/html": [
       "<div>\n",
       "<style scoped>\n",
       "    .dataframe tbody tr th:only-of-type {\n",
       "        vertical-align: middle;\n",
       "    }\n",
       "\n",
       "    .dataframe tbody tr th {\n",
       "        vertical-align: top;\n",
       "    }\n",
       "\n",
       "    .dataframe thead th {\n",
       "        text-align: right;\n",
       "    }\n",
       "</style>\n",
       "<table border=\"1\" class=\"dataframe\">\n",
       "  <thead>\n",
       "    <tr style=\"text-align: right;\">\n",
       "      <th></th>\n",
       "      <th>A</th>\n",
       "      <th>B</th>\n",
       "      <th>mean(A)</th>\n",
       "      <th>mean(B)</th>\n",
       "      <th>diff</th>\n",
       "      <th>se</th>\n",
       "      <th>T</th>\n",
       "      <th>p-tukey</th>\n",
       "      <th>hedges</th>\n",
       "    </tr>\n",
       "  </thead>\n",
       "  <tbody>\n",
       "    <tr>\n",
       "      <th>0</th>\n",
       "      <td>WT [-]</td>\n",
       "      <td>vps13Δ [-]</td>\n",
       "      <td>30.968032</td>\n",
       "      <td>35.444023</td>\n",
       "      <td>-4.475991</td>\n",
       "      <td>1.33646</td>\n",
       "      <td>-3.349139</td>\n",
       "      <td>0.035361</td>\n",
       "      <td>-2.187649</td>\n",
       "    </tr>\n",
       "    <tr>\n",
       "      <th>1</th>\n",
       "      <td>WT [-]</td>\n",
       "      <td>vps13Δ [CTR1]</td>\n",
       "      <td>30.968032</td>\n",
       "      <td>67.097756</td>\n",
       "      <td>-36.129724</td>\n",
       "      <td>1.33646</td>\n",
       "      <td>-27.033896</td>\n",
       "      <td>0.001000</td>\n",
       "      <td>-17.658467</td>\n",
       "    </tr>\n",
       "    <tr>\n",
       "      <th>2</th>\n",
       "      <td>vps13Δ [-]</td>\n",
       "      <td>vps13Δ [CTR1]</td>\n",
       "      <td>35.444023</td>\n",
       "      <td>67.097756</td>\n",
       "      <td>-31.653733</td>\n",
       "      <td>1.33646</td>\n",
       "      <td>-23.684756</td>\n",
       "      <td>0.001000</td>\n",
       "      <td>-15.470818</td>\n",
       "    </tr>\n",
       "  </tbody>\n",
       "</table>\n",
       "</div>"
      ],
      "text/plain": [
       "            A              B    mean(A)    mean(B)       diff       se  \\\n",
       "0      WT [-]     vps13Δ [-]  30.968032  35.444023  -4.475991  1.33646   \n",
       "1      WT [-]  vps13Δ [CTR1]  30.968032  67.097756 -36.129724  1.33646   \n",
       "2  vps13Δ [-]  vps13Δ [CTR1]  35.444023  67.097756 -31.653733  1.33646   \n",
       "\n",
       "           T   p-tukey     hedges  \n",
       "0  -3.349139  0.035361  -2.187649  \n",
       "1 -27.033896  0.001000 -17.658467  \n",
       "2 -23.684756  0.001000 -15.470818  "
      ]
     },
     "execution_count": 45,
     "metadata": {},
     "output_type": "execute_result"
    }
   ],
   "source": [
    "# Tukey's test in pingouin.\n",
    "pg.pairwise_tukey(data=copper_statistics, dv='Content', between='Strain')"
   ]
  },
  {
   "cell_type": "markdown",
   "metadata": {},
   "source": [
    "Results same like for statsmodels. Again, no exact p-values were given if they are very low."
   ]
  },
  {
   "cell_type": "markdown",
   "metadata": {},
   "source": [
    "Overall, both modules worked the same, yet data is easier to introduce into pinguin functions, no need to manually creating data groups. However, I believe that the requirement of at least 4 samples for normality test should be corrected.\n",
    "\n",
    "For confirmation, I performed same analysis using R, they yield the same results.\n",
    "\n",
    "Time to do the plot showing our data. Means of copper content for each strain with indicated standard deviation will be shown in a bar plot. Statistical significances will also be presented: * for p-value <0.05, *** for p-values < 0.001.\n",
    "\n",
    "Significant differences were indicated in the plot using solution proposed by Ulrich Stern.\n",
    "(https://stackoverflow.com/questions/36578458/how-does-one-insert-statistical-annotations-stars-or-p-values-into-matplotlib/37518947#37518947)"
   ]
  },
  {
   "cell_type": "code",
   "execution_count": 39,
   "metadata": {},
   "outputs": [
    {
     "data": {
      "image/png": "[encoded data removed]",
      "text/plain": [
       "<Figure size 194.4x216 with 1 Axes>"
      ]
     },
     "metadata": {
      "needs_background": "light"
     },
     "output_type": "display_data"
    }
   ],
   "source": [
    "plt.rcParams[\"font.family\"] = \"arial\"\n",
    "fig, ax = plt.subplots()\n",
    "fig.set_size_inches([2.7, 3])\n",
    "ax = sns.barplot(x='Strain', y='Content', data=copper_table_analysis, ci='sd', color='#2084F2',\n",
    "                edgecolor='#000000', linewidth=1, errwidth=1.5, capsize=0.1, errcolor='#000000')\n",
    "set_bar_width(ax, 0.5)\n",
    "ax.set_xlabel('')\n",
    "ax.set_xticklabels(ax.get_xticklabels(), fontsize=10, rotation=45, ha='right')\n",
    "ax.set_ylabel('Copper content [ng/OD]', fontsize=10)\n",
    "ax.set_ylim(0,95)\n",
    "ax.set_yticklabels(list(range(0,91,20)), fontsize=8)\n",
    "ax.yaxis.set_label_coords(-0.18, 0.5)\n",
    "\n",
    "sig1 = copper_table_analysis[copper_table_analysis['Strain']=='vps13Δ [-]']['Content'].mean()\n",
    "sig2 = copper_table_analysis[copper_table_analysis['Strain']=='vps13Δ [CTR1]']['Content'].mean()\n",
    "x1, x2 = 0, 1\n",
    "y = sig1 + 7\n",
    "plt.plot([x1,x2], [y,y], linewidth=1.25, color='#000000')\n",
    "plt.text((x1+x2)*0.5, y-1.5, \"*\", ha='center', fontsize=13)\n",
    "\n",
    "x1, x2 = 1, 2\n",
    "y = sig2 + 7\n",
    "plt.plot([x1,x2], [y,y], linewidth=1.25, color='#000000')\n",
    "plt.text((x1+x2)*0.5, y-1.5, \"***\", ha='center', fontsize=13)\n",
    "\n",
    "x1, x2 = 0, 2\n",
    "y = sig2 + 15\n",
    "plt.plot([x1,x2], [y,y], linewidth=1.25, color='#000000')\n",
    "plt.text((x1+x2)*0.5, y-1.5, \"***\", ha='center', fontsize=13)\n",
    "plt.tight_layout()\n",
    "fig.savefig('images/copper_content.png', dpi=600)\n",
    "plt.show()"
   ]
  },
  {
   "cell_type": "markdown",
   "metadata": {},
   "source": [
    "Looks nice. Just labels will be edited - some (but only some) parts must be italicized according to gene naming convention. This will require a lot of coding (if it's possible at all to do in Python?), so it's easier to do by manually in a graphics editing program."
   ]
  },
  {
   "cell_type": "code",
   "execution_count": null,
   "metadata": {},
   "outputs": [],
   "source": []
  }
 ],
 "metadata": {
  "kernelspec": {
   "display_name": "Python 3",
   "language": "python",
   "name": "python3"
  },
  "language_info": {
   "codemirror_mode": {
    "name": "ipython",
    "version": 3
   },
   "file_extension": ".py",
   "mimetype": "text/x-python",
   "name": "python",
   "nbconvert_exporter": "python",
   "pygments_lexer": "ipython3",
   "version": "3.6.4"
  }
 },
 "nbformat": 4,
 "nbformat_minor": 4
}
